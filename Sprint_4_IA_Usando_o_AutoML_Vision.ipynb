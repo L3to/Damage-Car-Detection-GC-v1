{
  "nbformat": 4,
  "nbformat_minor": 0,
  "metadata": {
    "colab": {
      "provenance": []
    },
    "kernelspec": {
      "name": "python3",
      "display_name": "Python 3"
    },
    "language_info": {
      "name": "python"
    }
  },
  "cells": [
    {
      "cell_type": "markdown",
      "source": [
        "![tracker](https://us-central1-vertex-ai-mlops-369716.cloudfunctions.net/pixel-tracking?path=statmike%2Fvertex-ai-mlops%2F00+-+Setup&file=00+-+Environment+Setup.ipynb)\n",
        "<!--- header table --->\n",
        "<table align=\"left\">\n",
        "  <td style=\"text-align: center\">\n",
        "    <a href=\"https://colab.research.google.com/github/statmike/vertex-ai-mlops/blob/main/00%20-%20Setup/00%20-%20Environment%20Setup.ipynb\">\n",
        "      <img src=\"https://cloud.google.com/ml-engine/images/colab-logo-32px.png\" alt=\"Google Colaboratory logo\">\n",
        "      <br>Rode no<br>Colab\n",
        "    </a>\n",
        "  </td>\n",
        "  <td style=\"text-align: center\">\n",
        "    <a href=\"https://console.cloud.google.com/vertex-ai/workbench/deploy-notebook?download_url=https://raw.githubusercontent.com/statmike/vertex-ai-mlops/main/00%20-%20Setup/00%20-%20Environment%20Setup.ipynb\">\n",
        "      <img src=\"https://lh3.googleusercontent.com/UiNooY4LUgW_oTvpsNhPpQzsstV5W8F7rYgxgGBD85cWJoLmrOzhVs_ksK_vgx40SHs7jCqkTkCk=e14-rj-sc0xffffff-h130-w32\" alt=\"Vertex AI logo\">\n",
        "      <br>Abra no<br>Vertex AI Workbench\n",
        "    </a>\n",
        "  </td>\n",
        "  </table>"
      ],
      "metadata": {
        "id": "IlfyoKEyHR_T"
      }
    },
    {
      "cell_type": "markdown",
      "source": [
        "# Projeto de Identificação de Danos em Veículos com Vertex AI\n",
        "\n",
        "No curso **Google Cloud Computing Foundations**, durante a seção de Inteligência Artificial e Análise de Dados, realizamos um laboratório prático no Qwiklabs chamado [*Identify Damaged Car Parts with Vertex AutoML Vision*](https://www.cloudskillsboost.google/focuses/22020?parent=catalog). Esse laboratório utiliza o AutoML do Vertex AI, uma ferramenta que facilita a criação de modelos de alta performance, ideal para quem possui pouco conhecimento em Machine Learning, pois automatiza grande parte do processo.\n",
        "\n",
        "## Objetivo da Sprint\n",
        "\n",
        "Para esta sprint, decidimos utilizar um conjunto de imagens fornecido pelo Google, que considera fatores importantes, como a distância da câmera em relação ao objeto, o que impacta diretamente na qualidade do dataset. Esse ponto é discutido no artigo [*Formulating a More Effective Way to Identify Vehicle Damage with Explainable AI*](https://cloud.google.com/blog/products/ai-machine-learning/identifying-vehicle-damage-effectively-with-explainable-ai), que explora o uso de uma ferramenta chamada *Image Qualifier Model*. Esse modelo avalia se uma imagem é adequada para ser usada no treinamento.\n",
        "\n",
        "## Estrutura do Dataset\n",
        "\n",
        "Nosso dataset incluirá imagens de cinco partes específicas de veículos:\n",
        "\n",
        "- **Para-brisa**\n",
        "- **Lateral**\n",
        "- **Capô**\n",
        "- **Motor**\n",
        "- **Para-choque**\n",
        "\n",
        "Cada imagem será rotulada com a parte do veículo correspondente, em casos reais poderíamos usar um modelo de multi-classificação já que ele trataria o quão grave é o dano / qual o tipo do dano e outras partes do carro. Embora modelos profissionais geralmente exijam mais de 100 imagens por parte, para este projeto acadêmico trabalharemos com cerca de 100 imagens para cada uma. As imagens apresentam diferentes tipos de danos, como rachaduras em vidro, arranhões, batidas e deformações no metal.\n",
        "\n",
        "##Geração de Orçamento com Base na Previsão\n",
        "Neste projeto com base na parte do veículo identificada, será possível gerar um orçamento para o reparo. Caso fosse aplicado verdadeiramente, esse orçamento levará em consideração o tipo de problema e o modelo do veículo e outros fatores, garantindo uma estimativa precisa e personalizada para o cliente.\n",
        "\n",
        "Esse projeto demonstra como o AutoML do Vertex AI pode ser utilizado para automatizar e otimizar o processo de identificação de danos em veículos, contribuindo para uma análise eficiente e fundamentada.\n",
        "\n",
        "##Funcionamento do Modelo\n",
        "\n",
        "O modelo final fornecerá uma previsão com a parte do veículo identificada e uma porcentagem de confiança para cada dano detectado. A saída seguirá um formato semelhante ao exemplo abaixo:\n",
        "\n",
        "```json\n",
        "{\n",
        "  \"predictions\": [\n",
        "    {\n",
        "      \"confidences\": [0.951557755],\n",
        "      \"displayNames\": [\"bumper\"],\n",
        "      \"ids\": [\"1960986684719890432\"]\n",
        "    }\n",
        "  ],\n",
        "  \"deployedModelId\": \"4271461936421404672\",\n",
        "  \"model\": \"projects/1030115194620/locations/REGION/models/2143634257791156224\",\n",
        "  \"modelDisplayName\": \"damaged_car_parts_vertex\",\n",
        "  \"modelVersionId\": \"1\"\n",
        "}\n",
        "\n"
      ],
      "metadata": {
        "id": "4BJ71SpDekm6"
      }
    },
    {
      "cell_type": "markdown",
      "source": [
        "#Ativar o Cloud Shell\n",
        "\n",
        "O Cloud Shell é uma máquina virtual equipada com ferramentas de desenvolvimento, oferecendo um diretório pessoal persistente de 5 GB e executando no Google Cloud. Ele permite acesso à linha de comando para seus recursos no Google Cloud.\n",
        "\n",
        "Clique em Ativar Cloud Shell no ícone de Cloud Shell no topo do console do Google Cloud. Quando a conexão for estabelecida, você já estará autenticado e o projeto estará configurado para o seu Project_ID, >*PROJECT_ID*. A saída inclui uma linha que exibe o Project_ID para essa sessão."
      ],
      "metadata": {
        "id": "wOX74ahzhbsY"
      }
    },
    {
      "cell_type": "markdown",
      "source": [
        "# **GOOGLE CLOUD CLOUD**\n"
      ],
      "metadata": {
        "id": "guwdDeazEbNU"
      }
    },
    {
      "cell_type": "markdown",
      "source": [
        "Abra uma instância do Cloud Shell no canto superior direito da tela (Símbolo do terminal), logo após defina as seguintes variáveis de ambiente:"
      ],
      "metadata": {
        "id": "f6TeGOnLGRiT"
      }
    },
    {
      "cell_type": "code",
      "source": [
        "export PROJECT_ID=$DEVSHELL_PROJECT_ID\n",
        "export BUCKET=$PROJECT_ID"
      ],
      "metadata": {
        "id": "lxIO1AwvG4Sh"
      },
      "execution_count": null,
      "outputs": []
    },
    {
      "cell_type": "markdown",
      "source": [
        "Crie o **Cloud Storage bucket**"
      ],
      "metadata": {
        "id": "OiNFSJ9kF-BH"
      }
    },
    {
      "cell_type": "code",
      "source": [
        "gsutil mb -p $PROJECT_ID \\\n",
        "    -c standard    \\\n",
        "    -l us-central1 \\\n",
        "    gs://${BUCKET}"
      ],
      "metadata": {
        "id": "XMNDPtR3G1PH"
      },
      "execution_count": null,
      "outputs": []
    },
    {
      "cell_type": "markdown",
      "source": [
        "Upload das [imagens](gs://car_damage_lab_images/) para o Cloud Storage, dê refresh na página do Storage!"
      ],
      "metadata": {
        "id": "2hwmFiS7Glts"
      }
    },
    {
      "cell_type": "code",
      "source": [
        "gsutil -m cp -r gs://car_damage_lab_images/* gs://${BUCKET}"
      ],
      "metadata": {
        "id": "Co03JqkDGynf"
      },
      "execution_count": null,
      "outputs": []
    },
    {
      "cell_type": "code",
      "source": [
        "Agora, iremos criar uma cópia do data.csv, nele as imagens já estão divididas em treino, teste e validação do modelo para o Vertex cuidar."
      ],
      "metadata": {
        "id": "THXXB6e3HBks"
      },
      "execution_count": null,
      "outputs": []
    },
    {
      "cell_type": "code",
      "source": [],
      "metadata": {
        "id": "-qj0s7ETHLTS"
      },
      "execution_count": null,
      "outputs": []
    },
    {
      "cell_type": "markdown",
      "source": [],
      "metadata": {
        "id": "BumZhm0yFiHA"
      }
    }
  ]
}